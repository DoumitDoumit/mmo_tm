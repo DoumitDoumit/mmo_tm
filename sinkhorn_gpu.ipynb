{
  "cells": [
    {
      "cell_type": "markdown",
      "metadata": {
        "id": "cSYLYrdyg-EB"
      },
      "source": [
        "# import"
      ]
    },
    {
      "cell_type": "code",
      "execution_count": 322,
      "metadata": {
        "colab": {
          "base_uri": "https://localhost:8080/"
        },
        "id": "h32e8w5HqFVP",
        "outputId": "52398a8d-3143-4818-d93b-72da710096d8"
      },
      "outputs": [
        {
          "name": "stdout",
          "output_type": "stream",
          "text": [
            "True\n"
          ]
        }
      ],
      "source": [
        "import time\n",
        "\n",
        "import torch\n",
        "import numpy as np\n",
        "import pandas as pd\n",
        "\n",
        "from tqdm import tqdm\n",
        "import matplotlib.pyplot as plt\n",
        "\n",
        "\n",
        "print(torch.cuda.is_available())"
      ]
    },
    {
      "cell_type": "code",
      "execution_count": 324,
      "metadata": {
        "colab": {
          "base_uri": "https://localhost:8080/"
        },
        "id": "v1QGaPU9hGBz",
        "outputId": "442825db-4e7f-4b87-89ca-deeecbf3dfd9"
      },
      "outputs": [
        {
          "name": "stdout",
          "output_type": "stream",
          "text": [
            "Sat Dec 16 16:45:15 2023       \n",
            "+---------------------------------------------------------------------------------------+\n",
            "| NVIDIA-SMI 535.104.05             Driver Version: 535.104.05   CUDA Version: 12.2     |\n",
            "|-----------------------------------------+----------------------+----------------------+\n",
            "| GPU  Name                 Persistence-M | Bus-Id        Disp.A | Volatile Uncorr. ECC |\n",
            "| Fan  Temp   Perf          Pwr:Usage/Cap |         Memory-Usage | GPU-Util  Compute M. |\n",
            "|                                         |                      |               MIG M. |\n",
            "|=========================================+======================+======================|\n",
            "|   0  Tesla T4                       Off | 00000000:00:04.0 Off |                    0 |\n",
            "| N/A   70C    P0              30W /  70W |   2809MiB / 15360MiB |      0%      Default |\n",
            "|                                         |                      |                  N/A |\n",
            "+-----------------------------------------+----------------------+----------------------+\n",
            "                                                                                         \n",
            "+---------------------------------------------------------------------------------------+\n",
            "| Processes:                                                                            |\n",
            "|  GPU   GI   CI        PID   Type   Process name                            GPU Memory |\n",
            "|        ID   ID                                                             Usage      |\n",
            "|=======================================================================================|\n",
            "+---------------------------------------------------------------------------------------+\n"
          ]
        }
      ],
      "source": [
        "!nvidia-smi"
      ]
    },
    {
      "cell_type": "code",
      "execution_count": 288,
      "metadata": {
        "id": "2VNlVyc0a-q7"
      },
      "outputs": [],
      "source": [
        "from src.sinkhorn import Sinkhorn\n",
        "from src.sinkhorn_gpu import SinkhornGPU"
      ]
    },
    {
      "cell_type": "markdown",
      "metadata": {
        "id": "cDbW9S7fgrkX"
      },
      "source": [
        "# compare Sinkhorn & SinkhornGPU"
      ]
    },
    {
      "cell_type": "code",
      "execution_count": 315,
      "metadata": {
        "id": "0R2igJFseSPn"
      },
      "outputs": [],
      "source": [
        "def generate_input(dim: int) -> bool:\n",
        "    \"\"\"\n",
        "    todo\n",
        "    \"\"\"\n",
        "    gammaT_ij = torch.rand((dim, dim))\n",
        "    lambda_w_j = torch.rand((dim,))\n",
        "    lambda_l_i = torch.rand((dim,))\n",
        "    return gammaT_ij, lambda_w_j, lambda_l_i"
      ]
    },
    {
      "cell_type": "code",
      "execution_count": 321,
      "metadata": {
        "id": "l9WeZP5mfl7L"
      },
      "outputs": [],
      "source": [
        "gammaT_ij, lambda_w_j, lambda_l_i = generate_input(100)\n",
        "\n",
        "sinkhorn_numpy = Sinkhorn(lambda_w_j.numpy(), lambda_l_i.numpy(), max_iter=5)\n",
        "sinkhorn_cpu = SinkhornGPU(lambda_w_j, lambda_l_i, device=\"cpu\", max_iter=5)\n",
        "\n",
        "k = 0\n",
        "lambda_w_j_numpy, lambda_l_i_numpy = sinkhorn_numpy._scipy_iteration(k, gammaT_ij, lambda_w_j, lambda_l_i)\n",
        "lambda_w_j_cpu, lambda_l_i_cpu = sinkhorn_cpu._iteration(k, gammaT_ij, lambda_w_j, lambda_l_i)"
      ]
    },
    {
      "cell_type": "code",
      "execution_count": 318,
      "metadata": {
        "id": "V-SJB-oIgEp1"
      },
      "outputs": [],
      "source": [
        "assert np.linalg.norm(lambda_w_j_numpy - lambda_w_j_cpu.numpy()) < 1e-3\n",
        "assert np.linalg.norm(lambda_l_i_numpy - lambda_l_i_cpu.numpy()) < 1e-3"
      ]
    },
    {
      "cell_type": "markdown",
      "metadata": {
        "id": "Q0_51E1jgvS-"
      },
      "source": [
        "# profile Sinkhorn & SinkhornGPU"
      ]
    },
    {
      "cell_type": "code",
      "execution_count": 226,
      "metadata": {
        "id": "XE3zO_sSxUO9"
      },
      "outputs": [],
      "source": [
        "def measure_execution_time(sinkhorn: object, *args, **kwargs) -> float:\n",
        "    \"\"\"\n",
        "    todo\n",
        "    \"\"\"\n",
        "    t0 = time.perf_counter()\n",
        "    _ = sinkhorn.run(*args, **kwargs)\n",
        "    return time.perf_counter() - t0\n",
        "\n",
        "\n",
        "def get_execution_time(dim: int, max_iter: int) -> dict[str, float]:\n",
        "    \"\"\"\n",
        "    todo\n",
        "    \"\"\"\n",
        "    # NOTE: synthetic test\n",
        "    gammaT_ij = torch.rand((dim, dim))\n",
        "    departures, arrivals = torch.rand((dim,)), torch.rand((dim,))\n",
        "\n",
        "    sinkhorn_numpy = Sinkhorn(departures.numpy(), arrivals.numpy(), max_iter=max_iter)\n",
        "    t_numpy = measure_execution_time(sinkhorn_numpy, gammaT_ij=gammaT_ij.numpy())\n",
        "\n",
        "    sinkhorn_cpu = SinkhornGPU(departures, arrivals, device=\"cpu\", max_iter=max_iter)\n",
        "    t_cpu = measure_execution_time(sinkhorn_cpu, gammaT_ij=gammaT_ij)\n",
        "\n",
        "    sinkhorn_cuda = SinkhornGPU(departures, arrivals, device=\"cuda\", max_iter=max_iter)\n",
        "    t_cuda = measure_execution_time(sinkhorn_cuda, gammaT_ij=gammaT_ij)\n",
        "\n",
        "    return {\n",
        "        \"t_numpy\": t_numpy,\n",
        "        \"t_cpu\": t_cpu,\n",
        "        \"t_cuda\": t_cuda,\n",
        "    }\n",
        "\n",
        "\n",
        "def get_execution_time_log(linspace: np.ndarray, max_iter: int) -> pd.DataFrame:\n",
        "    \"\"\"\n",
        "    todo\n",
        "    \"\"\"\n",
        "    records = np.array([get_execution_time(dim, max_iter) for dim in tqdm(linspace)])\n",
        "    return pd.DataFrame.from_records(records, index=linspace)\n",
        "\n",
        "\n",
        "def apply_ma(\n",
        "    df: pd.DataFrame, columns: list = [], window_size: int = 10\n",
        ") -> pd.DataFrame:\n",
        "    \"\"\"\n",
        "    Applies moving average to the columns of the pd.DataFrame\n",
        "    \"\"\"\n",
        "    if not columns:\n",
        "        columns = df.columns\n",
        "\n",
        "    for column in columns:\n",
        "        df[f\"ma_{column}\"] = df[column].rolling(window=window_size).mean()\n",
        "    return df\n"
      ]
    },
    {
      "cell_type": "code",
      "execution_count": 227,
      "metadata": {
        "colab": {
          "base_uri": "https://localhost:8080/"
        },
        "id": "3Gul8R12HT40",
        "outputId": "49866361-6094-4ce7-ccd5-f9547a9f663c"
      },
      "outputs": [
        {
          "name": "stderr",
          "output_type": "stream",
          "text": [
            "100%|██████████| 100/100 [09:31<00:00,  5.72s/it]\n"
          ]
        }
      ],
      "source": [
        "linspace = np.linspace(10, 10_000, 100).astype(int)\n",
        "df = get_execution_time_log(linspace, 5)"
      ]
    },
    {
      "cell_type": "code",
      "execution_count": 276,
      "metadata": {
        "id": "Ag_MANjjUR4F"
      },
      "outputs": [],
      "source": [
        "df[\"t_numpy_t_cuda\"] = df[\"t_numpy\"] / df[\"t_cuda\"]\n",
        "df[\"t_numpy_t_cpu\"] = df[\"t_numpy\"] / df[\"t_cpu\"]\n",
        "\n",
        "ma_df = apply_ma(df, window_size=10).fillna(method='bfill')"
      ]
    },
    {
      "cell_type": "markdown",
      "metadata": {
        "id": "2iWvD8XUTEoE"
      },
      "source": [
        "# plot"
      ]
    },
    {
      "cell_type": "code",
      "execution_count": 286,
      "metadata": {
        "colab": {
          "base_uri": "https://localhost:8080/",
          "height": 796
        },
        "id": "jRqglF86052w",
        "outputId": "da5662e0-1273-4a31-b787-6f932c9cb969"
      },
      "outputs": [
        {
          "data": {
            "image/png": "[encoded data removed]",
            "text/plain": [
              "<Figure size 1600x900 with 1 Axes>"
            ]
          },
          "metadata": {},
          "output_type": "display_data"
        }
      ],
      "source": [
        "fig, ax = plt.subplots(figsize=(16, 9))\n",
        "\n",
        "keys = ma_df.index\n",
        "\n",
        "ax.bar(keys, ma_df[\"ma_t_numpy_t_cuda\"].fillna(ma_df[\"t_numpy_t_cuda\"]), label = \"device('cuda') acceleration\", width=90, color=\"b\")\n",
        "ax.bar(keys, ma_df[\"ma_t_numpy_t_cpu\"].fillna(ma_df[\"t_numpy_t_cpu\"]), label = \"device('cpu') acceleration\", width=90, color=\"r\")\n",
        "\n",
        "ax.grid()\n",
        "ax.set_title(\"device('cuda') vs numpy & device('cpu') vs numpy\")\n",
        "ax.set_xlabel(\"dim\")\n",
        "ax.set_ylabel(\"acceleration\")\n",
        "\n",
        "ax.legend()\n",
        "plt.savefig(f'sinkhorn.png', dpi=300)"
      ]
    }
  ],
  "metadata": {
    "accelerator": "GPU",
    "colab": {
      "gpuType": "T4",
      "provenance": []
    },
    "kernelspec": {
      "display_name": "Python 3",
      "name": "python3"
    },
    "language_info": {
      "name": "python"
    }
  },
  "nbformat": 4,
  "nbformat_minor": 0
}
