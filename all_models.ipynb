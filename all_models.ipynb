{
 "cells": [
  {
   "cell_type": "code",
   "execution_count": null,
   "id": "5c429210-90b6-41fc-a314-6c6448c97e1e",
   "metadata": {
    "tags": []
   },
   "outputs": [],
   "source": [
    "%load_ext autoreload\n",
    "%autoreload 2"
   ]
  },
  {
   "cell_type": "code",
   "execution_count": null,
   "id": "136241d7-b1c9-4db3-b729-e4d609a955c5",
   "metadata": {
    "tags": []
   },
   "outputs": [],
   "source": [
    "import networkx as nx\n",
    "import numpy as np\n",
    "import cvxpy as cp\n",
    "from tqdm import tqdm\n",
    "from pathlib import Path\n",
    "\n",
    "from src.load_data import (\n",
    "    read_metadata_networks_tntp,\n",
    "    read_graph_transport_networks_tntp,\n",
    "    read_traffic_mat_transport_networks_tntp,\n",
    ")\n",
    "\n",
    "from src.models import SDModel, BeckmannModel, TwostageModel\n",
    "from src.algs import subgd, ustm, frank_wolfe, cyclic, N_conjugate_frank_wolfe\n",
    "from src.cvxpy_solvers import get_max_traffic_mat_mul\n",
    "from src.commons import Correspondences\n",
    "\n",
    "import matplotlib.pyplot as plt\n",
    "\n",
    "plt.rcParams.update({\"font.size\": 14})\n",
    "%config InlineBackend.figure_format = 'retina'\n",
    "\n",
    "%matplotlib inline"
   ]
  },
  {
   "cell_type": "code",
   "execution_count": null,
   "id": "6c05a856-8a2f-4a11-b8ba-40f819078535",
   "metadata": {
    "tags": []
   },
   "outputs": [],
   "source": [
    "networks_path = Path(\"./TransportationNetworks\")\n",
    "\n",
    "folder = \"SiouxFalls\"\n",
    "net_name = \"SiouxFalls_net\"\n",
    "traffic_mat_name = \"SiouxFalls_trips\"\n",
    "\n",
    "# folder = \"Anaheim\"\n",
    "# net_name = \"Anaheim_net\"\n",
    "# traffic_mat_name = \"Anaheim_trips\"\n",
    "\n",
    "# folder = \"Barcelona\"\n",
    "# net_name = \"Barcelona_net\"\n",
    "# traffic_mat_name = \"Barcelona_trips\"\n",
    "\n",
    "\n",
    "net_file = networks_path / folder / f\"{net_name}.tntp\"\n",
    "traffic_mat_file = networks_path / folder / f\"{traffic_mat_name}.tntp\"\n",
    "graph, metadata = read_graph_transport_networks_tntp(net_file)\n",
    "correspondences = read_traffic_mat_transport_networks_tntp(traffic_mat_file, metadata)\n",
    "n = graph.number_of_nodes()\n",
    "\n",
    "print(f\"{graph.number_of_edges()=}, {graph.number_of_nodes()=}\")"
   ]
  },
  {
   "cell_type": "code",
   "execution_count": null,
   "id": "877aa96b",
   "metadata": {},
   "outputs": [],
   "source": [
    "beckmann_model = BeckmannModel(graph, correspondences)\n",
    "\n",
    "eps = 1e-4\n",
    "mean_bw = beckmann_model.graph.ep.capacities.a.mean()\n",
    "mean_cost = beckmann_model.graph.ep.free_flow_times.a.mean()\n",
    "\n",
    "# cost suboptimality <= eps * (average link cost * avg bandwidth * |E| \\approx total cost when beta=1)\n",
    "eps_abs = eps * mean_cost * mean_bw * graph.number_of_edges()\n",
    "\n",
    "eps_cons_abs = eps * mean_bw\n",
    "# sum of capacity violation <= eps * average link capacity\n",
    "print(eps_abs, eps_cons_abs)"
   ]
  },
  {
   "cell_type": "markdown",
   "id": "c81ec4e6",
   "metadata": {},
   "source": [
    "# Beckmann"
   ]
  },
  {
   "cell_type": "code",
   "execution_count": null,
   "id": "e7f25a25",
   "metadata": {},
   "outputs": [],
   "source": [
    "times_e_ustm, flows_e_ustm, logs, optimal = ustm(beckmann_model, eps_abs, max_iter=2000, stop_by_crit=False)\n",
    "dgap_ustm, cons_log_ustm, time_log_ustm = logs\n",
    "print(len(dgap_ustm), \"shortest paths calls\")"
   ]
  },
  {
   "cell_type": "code",
   "execution_count": null,
   "id": "2f783393",
   "metadata": {},
   "outputs": [],
   "source": [
    "times_e_fw, flows_e_fw, logs, optimal = frank_wolfe(beckmann_model, eps_abs, max_iter=7700, stop_by_crit=False)\n",
    "dgap_fw, time_log_fw, primal_r_gap_fw = logs"
   ]
  },
  {
   "cell_type": "code",
   "execution_count": null,
   "id": "52dbf071",
   "metadata": {},
   "outputs": [],
   "source": [
    "times_e_nfw, flows_e_nfw, logs, optimal = N_conjugate_frank_wolfe(\n",
    "    beckmann_model, eps_abs, max_iter=4000, stop_by_crit=False, cnt_conjugates=3, linesearch=True\n",
    ")\n",
    "dgap_nfw, time_log_nfw, primal_r_gap_nfw = logs"
   ]
  },
  {
   "cell_type": "code",
   "execution_count": null,
   "id": "d5d0ec64",
   "metadata": {},
   "outputs": [],
   "source": [
    "plt.figure(figsize=(10, 4))\n",
    "plt.subplot(121)\n",
    "dgap_ustm = np.abs(dgap_ustm)\n",
    "dgap_fw = np.abs(dgap_fw)\n",
    "dgap_nfw = np.abs(dgap_nfw)\n",
    "plt.plot(time_log_ustm, dgap_ustm, c=\"C4\", label=\"USTM\")\n",
    "plt.plot(time_log_fw, dgap_fw, c=\"C5\", label=\"FW\")\n",
    "plt.plot(time_log_nfw, dgap_nfw, c=\"C3\", label=\"NFW\")\n",
    "plt.axhline(y=np.ones(max(dgap_ustm.size, dgap_fw.size))[0] * eps_abs, linestyle=\"--\", label=\"eps_abs\")\n",
    "plt.yscale(\"log\")\n",
    "plt.title(\"abs(dgap)\")\n",
    "plt.legend()"
   ]
  },
  {
   "cell_type": "markdown",
   "id": "e516333d",
   "metadata": {},
   "source": [
    "# SD"
   ]
  },
  {
   "cell_type": "code",
   "execution_count": null,
   "id": "7f3ca000",
   "metadata": {},
   "outputs": [],
   "source": [
    "# %%time\n",
    "\n",
    "# for Anaheim 18 min on my laptop (for np.ones matrix ~3 min, omg. maybe scaling impacts?). result \\approx 0.529\n",
    "# sd_max_traffic_mul = get_max_traffic_mat_mul(graph, correspondences.traffic_mat, solver=cp.SCS)\n",
    "sd_max_traffic_mul = 0.529\n",
    "\n",
    "# for SiouxFalls\n",
    "# sd_max_traffic_mul = get_max_traffic_mat_mul(graph, correspondences.node_traffic_mat, solver=cp.ECOS,\n",
    "#                                              max_iters=1000, verbose=False)\n",
    "\n",
    "print(f\"{sd_max_traffic_mul=},\")\n",
    "\n",
    "corrs = Correspondences(\n",
    "    traffic_mat=correspondences.traffic_mat * sd_max_traffic_mul * 0.9,\n",
    "    node_traffic_mat=correspondences.node_traffic_mat * sd_max_traffic_mul * 0.9,\n",
    "    sources=correspondences.sources,\n",
    "    targets=correspondences.targets,\n",
    ")\n",
    "\n",
    "sd_model = SDModel(graph, corrs)\n",
    "# model = SDModel(graph, traffic_mat * sd_max_traffic_mul * 1.1)  # you should see that constraints error does not converge"
   ]
  },
  {
   "cell_type": "markdown",
   "id": "076dfe5f",
   "metadata": {
    "tags": []
   },
   "source": [
    "## cvxpy edge-based"
   ]
  },
  {
   "cell_type": "raw",
   "id": "b22c2885",
   "metadata": {
    "scrolled": true
   },
   "source": [
    "# %%time\n",
    "# SCS(solver=\"SCS\", verbose=True, eps_abs=eps_abs) returns nonsencial solution\n",
    "# more options: https://www.cvxgrp.org/scs/api/settings.html#settings\n",
    "\n",
    "# more options, than in scipy docs: https://ergo-code.github.io/HiGHS/dev/options/definitions/#option-definitions\n",
    "# flows_ie, dual_costs_cvx, _, _ = model.solve_cvxpy(solver=cp.SCIPY, verbose=False, \n",
    "#                                                              scipy_options=dict(method=\"highs\", disp=True,\n",
    "#                                                                                     time_limit=10 * 60),)\n",
    "\n",
    "# for small nets\n",
    "flows_ie, dual_costs_cvx, _, _ = model.solve_cvxpy(solver=cp.ECOS, verbose=True)\n",
    "\n",
    "flows_cvx = flows_ie.sum(axis=1)\n",
    "R = np.linalg.norm(dual_costs_cvx)\n",
    "\n",
    "print(R)"
   ]
  },
  {
   "cell_type": "markdown",
   "id": "483c51eb",
   "metadata": {},
   "source": [
    "## Ustm"
   ]
  },
  {
   "cell_type": "code",
   "execution_count": null,
   "id": "220ded51",
   "metadata": {},
   "outputs": [],
   "source": [
    "%%time\n",
    "\n",
    "times_e_ustm, flows_e_ustm, logs, optimal = ustm(sd_model, eps_abs, eps_cons_abs, max_iter=1000, stop_by_crit=True)\n",
    "\n",
    "dgap_ustm, cons_log_ustm, time_log_ustm = logs\n",
    "print(len(dgap_ustm), \"iters\")"
   ]
  },
  {
   "cell_type": "code",
   "execution_count": null,
   "id": "241e84a1",
   "metadata": {},
   "outputs": [],
   "source": [
    "plt.figure(figsize=(10, 4))\n",
    "plt.subplot(121)\n",
    "dgap_abs = np.abs(dgap_ustm)\n",
    "plt.plot(dgap_abs, c=\"C4\", label=\"USTM\")\n",
    "plt.plot(np.ones(dgap_abs.size) * eps_abs, label=\"eps_abs\")\n",
    "plt.yscale(\"log\")\n",
    "plt.ylim(None, dgap_abs.max() * 2)\n",
    "plt.title(\"abs(dgap)\")\n",
    "plt.legend()\n",
    "\n",
    "plt.subplot(122)\n",
    "plt.plot(np.ones(len(cons_log_ustm)) * eps_cons_abs, label=\"eps_cons_abs\")\n",
    "plt.plot(cons_log_ustm, c=\"C4\", label=\"USTM\")\n",
    "plt.title(\"constraint violation\")\n",
    "plt.yscale(\"log\")\n",
    "plt.legend()"
   ]
  },
  {
   "cell_type": "raw",
   "id": "57b1d1f5",
   "metadata": {},
   "source": [
    "\n",
    "    _ = plt.figure(figsize=(4, 2)), plt.plot(dual_costs_cvx), plt.plot(times_e_ustm)\n",
    "# print(model.primal(flows_cvx), model.primal(flows_e_ustm))\n",
    "print(model.capacity_violation(flows_cvx), model.capacity_violation(flows_e_ustm))"
   ]
  },
  {
   "cell_type": "code",
   "execution_count": null,
   "id": "c41459a3",
   "metadata": {},
   "outputs": [],
   "source": [
    "bws = sd_model.graph.ep.capacities.a\n",
    "order = bws.argsort()\n",
    "\n",
    "plt.plot(bws[order], label=\"capacity\", c=\"C2\")\n",
    "# plt.plot(flows_cvx[order], label=\"cvxpy\", c=\"C1\")\n",
    "plt.plot(flows_e_ustm[order], label=\"ustm\", c=\"C4\")\n",
    "\n",
    "plt.legend()"
   ]
  },
  {
   "cell_type": "markdown",
   "id": "f8dc7012",
   "metadata": {},
   "source": [
    "# Subgd"
   ]
  },
  {
   "cell_type": "code",
   "execution_count": null,
   "id": "3e0422d2",
   "metadata": {
    "scrolled": true
   },
   "outputs": [],
   "source": [
    "%%time\n",
    "\n",
    "times_e_subgd, flows_e_subgd, logs, optimal = subgd(\n",
    "    sd_model, R=10, eps_abs=eps_abs, eps_cons_abs=eps_cons_abs, max_iter=1000\n",
    ")\n",
    "\n",
    "dgap_subgd, cons_log_subgd = logs"
   ]
  },
  {
   "cell_type": "code",
   "execution_count": null,
   "id": "5c620ed9",
   "metadata": {},
   "outputs": [],
   "source": [
    "plt.figure(figsize=(10, 4))\n",
    "plt.subplot(121)\n",
    "dgap_abs = np.abs(dgap_subgd)\n",
    "plt.plot(np.ones(dgap_abs.size) * eps_abs, label=\"eps_abs\")\n",
    "plt.plot(dgap_abs, c=\"C3\", label=\"subgd\")\n",
    "plt.legend()\n",
    "plt.yscale(\"log\")\n",
    "\n",
    "plt.title(\"abs(dgap)\")\n",
    "plt.subplot(122)\n",
    "plt.plot(np.ones(len(cons_log_subgd)) * eps_cons_abs, label=\"eps_cons_abs\")\n",
    "plt.plot(cons_log_subgd, c=\"C3\", label=\"subgd\")\n",
    "plt.legend()\n",
    "plt.title(\"constraint violation l1 norm\")\n",
    "plt.yscale(\"log\")"
   ]
  },
  {
   "cell_type": "raw",
   "id": "27785f29",
   "metadata": {},
   "source": [
    "_ = plt.figure(figsize=(4, 2))\n",
    "plt.plot(dual_costs_cvx, c=\"C1\", label=\"dual var cvx\")\n",
    "plt.plot(dual_costs, c=\"C3\", label=\"dual var subgd\")\n",
    "plt.legend()"
   ]
  },
  {
   "cell_type": "code",
   "execution_count": null,
   "id": "1c3baef3",
   "metadata": {},
   "outputs": [],
   "source": [
    "bws = sd_model.graph.ep.capacities.a\n",
    "order = bws.argsort()\n",
    "\n",
    "plt.plot(bws[order], label=\"capacity\", c=\"C2\")\n",
    "# plt.plot(flows_cvx[order], label=\"cvxpy\", c=\"C1\")\n",
    "plt.plot(flows_e_subgd[order], label=\"subgd\", c=\"C4\")\n",
    "\n",
    "plt.legend()"
   ]
  },
  {
   "cell_type": "markdown",
   "id": "34eb20da",
   "metadata": {},
   "source": [
    "# Twostage"
   ]
  },
  {
   "cell_type": "code",
   "execution_count": null,
   "id": "1441e134",
   "metadata": {},
   "outputs": [],
   "source": [
    "traffic_mat = beckmann_model.correspondences.traffic_mat\n",
    "departures, arrivals = traffic_mat.sum(axis=1), traffic_mat.sum(axis=0)\n",
    "twostage_beckmann_model = TwostageModel(beckmann_model, departures, arrivals, gamma=0.1)\n",
    "\n",
    "print(eps_abs, eps_cons_abs)"
   ]
  },
  {
   "cell_type": "code",
   "execution_count": null,
   "id": "67722415",
   "metadata": {
    "scrolled": true
   },
   "outputs": [],
   "source": [
    "times_e_ustm, flows_e_ustm, traffic_mat, logs, optimal = cyclic(\n",
    "    twostage_beckmann_model, eps_abs, eps_abs, max_iter=20, traffic_assigment_max_iter=100, stop_by_crit=False\n",
    ")\n",
    "dgap_cyclic, cons_log_cyclic, time_log_cyclic = logs"
   ]
  },
  {
   "cell_type": "code",
   "execution_count": null,
   "id": "dd83ce06",
   "metadata": {},
   "outputs": [],
   "source": [
    "times_ustm_2s, primal_var, logs, optimal = ustm(\n",
    "    twostage_beckmann_model, eps_abs=1000, max_iter=300, stop_by_crit=False\n",
    ")\n",
    "dgap_ustm_2s, cons_log_ustm_2s, time_log_ustm_2s = logs\n",
    "print(len(dgap_ustm_2s), \"iters\")"
   ]
  },
  {
   "cell_type": "code",
   "execution_count": null,
   "id": "cdbaf85d",
   "metadata": {},
   "outputs": [],
   "source": [
    "plt.figure(figsize=(10, 4))\n",
    "plt.subplot(121)\n",
    "plt.plot(time_log_cyclic, dgap_cyclic, c=\"C4\", label=\"cyclic\")\n",
    "plt.plot(time_log_ustm_2s, dgap_ustm_2s, c=\"C6\", label=\"ustm\")\n",
    "plt.yscale(\"log\")\n",
    "plt.title(\"dgap\")\n",
    "plt.legend()"
   ]
  }
 ],
 "metadata": {
  "kernelspec": {
   "display_name": "gt",
   "language": "python",
   "name": "python3"
  },
  "language_info": {
   "codemirror_mode": {
    "name": "ipython",
    "version": 3
   },
   "file_extension": ".py",
   "mimetype": "text/x-python",
   "name": "python",
   "nbconvert_exporter": "python",
   "pygments_lexer": "ipython3",
   "version": "3.11.6"
  }
 },
 "nbformat": 4,
 "nbformat_minor": 5
}
