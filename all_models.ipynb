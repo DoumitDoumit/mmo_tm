{
 "cells": [
  {
   "cell_type": "code",
   "execution_count": null,
   "id": "5c429210-90b6-41fc-a314-6c6448c97e1e",
   "metadata": {
    "tags": []
   },
   "outputs": [],
   "source": [
    "%load_ext autoreload\n",
    "%autoreload 2\n"
   ]
  },
  {
   "cell_type": "code",
   "execution_count": null,
   "id": "136241d7-b1c9-4db3-b729-e4d609a955c5",
   "metadata": {
    "tags": []
   },
   "outputs": [],
   "source": [
    "import networkx as nx\n",
    "import numpy as np\n",
    "import cvxpy as cp\n",
    "import json\n",
    "import time\n",
    "from tqdm import tqdm\n",
    "from pathlib import Path\n",
    "\n",
    "from src.load_data import (\n",
    "    read_metadata_networks_tntp,\n",
    "    read_graph_transport_networks_tntp,\n",
    "    read_traffic_mat_transport_networks_tntp,\n",
    ")\n",
    "# from src.solvers.edge_based.min_cost_concurrent_flow import solve_min_cost_concurrent_flow\n",
    "\n",
    "# from experiments.latency_vs_throughput.latency_vs_throughput import build_and_plot_latency_hist, get_flow_cost_and_amount, \\\n",
    "#     plot_latency_vs_throughput_pareto_front, scale_graph_bandwidth_and_cost, draw_graph_with_positions\n",
    "\n",
    "from src.models import SDModel, BeckmannModel\n",
    "from src.algs import subgd, ustm, frank_wolfe\n",
    "from src.cvxpy_solvers import get_max_traffic_mat_mul\n",
    "\n",
    "import matplotlib.pyplot as plt\n",
    "\n",
    "plt.rcParams.update({'font.size': 14})\n",
    "%config InlineBackend.figure_format = 'retina'\n",
    "\n",
    "%matplotlib inline"
   ]
  },
  {
   "cell_type": "code",
   "execution_count": null,
   "id": "6c05a856-8a2f-4a11-b8ba-40f819078535",
   "metadata": {
    "tags": []
   },
   "outputs": [],
   "source": [
    "networks_path = Path(\"./TransportationNetworks\")\n",
    "# network = \"Anaheim\"\n",
    "\n",
    "folder = \"Anaheim\"\n",
    "net_name = \"Anaheim_net\"\n",
    "traffic_mat_name = \"Anaheim_trips\"\n",
    "    \n",
    "# folder = \"Barcelona\"\n",
    "# net_name = \"Barcelona_net\"\n",
    "# traffic_mat_name = \"Barcelona_trips\"\n",
    "    \n",
    "# folder = \"SiouxFalls\"\n",
    "# net_name = \"SiouxFalls_net\"\n",
    "# traffic_mat_name = \"SiouxFalls_trips\"\n",
    "    \n",
    "net_file = networks_path / folder / f\"{net_name}.tntp\"\n",
    "traffic_mat_file = networks_path / folder / f\"{traffic_mat_name}.tntp\"\n",
    "graph, metadata = read_graph_transport_networks_tntp(net_file)\n",
    "traffic_mat = read_traffic_mat_transport_networks_tntp(traffic_mat_file, metadata)\n",
    "n = graph.number_of_nodes()\n",
    "\n",
    "print(f\"{graph.number_of_edges()=}, {graph.number_of_nodes()=}\")"
   ]
  },
  {
   "cell_type": "code",
   "execution_count": null,
   "id": "877aa96b",
   "metadata": {},
   "outputs": [],
   "source": [
    "model = BeckmannModel(graph, traffic_mat)\n",
    "\n",
    "eps = 1e-6\n",
    "mean_bw = model.graph.ep.capacities.a.mean()\n",
    "mean_cost = model.graph.ep.free_flow_times.a.mean()\n",
    "\n",
    "# cost suboptimality <= eps * (average link cost * avg bandwidth * |E| \\approx total cost when beta=1)\n",
    "eps_abs = eps * mean_cost * mean_bw * graph.number_of_edges()\n",
    "\n",
    "eps_cons_abs = eps * mean_bw \n",
    "# sum of capacity violation <= eps * average link capacity\n",
    "print(eps_abs, eps_cons_abs)"
   ]
  },
  {
   "cell_type": "markdown",
   "id": "c81ec4e6",
   "metadata": {},
   "source": [
    "# Beckmann"
   ]
  },
  {
   "cell_type": "code",
   "execution_count": null,
   "id": "e7f25a25",
   "metadata": {},
   "outputs": [],
   "source": [
    "model = BeckmannModel(graph, traffic_mat)\n",
    "\n",
    "\n",
    "times_e_ustm, flows_e_ustm, dgap_ustm, cons_log, A_log, optimal = ustm(model, eps_abs,\n",
    "                                                                         max_iter=1000, stop_by_crit=True)\n",
    "print(len(dgap_ustm), \"shortest paths calls\")\n"
   ]
  },
  {
   "cell_type": "code",
   "execution_count": null,
   "id": "2f783393",
   "metadata": {},
   "outputs": [],
   "source": [
    "times_e_fw, flows_e_fw, dgap_fw, optimal = frank_wolfe(model, eps_abs,  max_iter=1000, stop_by_crit=False)"
   ]
  },
  {
   "cell_type": "code",
   "execution_count": null,
   "id": "d5d0ec64",
   "metadata": {},
   "outputs": [],
   "source": [
    "A_arr = np.array(A_log) \n",
    "plt.figure(figsize=(10,4))\n",
    "plt.subplot(121)\n",
    "dgap_ustm = np.abs(dgap_ustm)\n",
    "dgap_fw = np.abs(dgap_fw)\n",
    "plt.plot(dgap_ustm, c=\"C4\", label=\"USTM\")\n",
    "plt.plot(dgap_fw, c=\"C5\", label=\"FW\")\n",
    "plt.plot(np.ones(max(dgap_ustm.size, dgap_fw.size)) * eps_abs, label=\"eps_abs\")\n",
    "plt.yscale(\"log\")\n",
    "# plt.ylim(None, dgap_ustm.max() * 2)\n",
    "plt.title(\"abs(dgap)\")\n",
    "plt.legend()\n"
   ]
  },
  {
   "cell_type": "markdown",
   "id": "e516333d",
   "metadata": {},
   "source": [
    "# SD"
   ]
  },
  {
   "cell_type": "code",
   "execution_count": null,
   "id": "7f3ca000",
   "metadata": {},
   "outputs": [],
   "source": [
    "%%time\n",
    "\n",
    "# for Anaheim 18 min on my laptop (for np.ones matrix ~3 min, omg. maybe scaling impacts?). result \\approx 0.529\n",
    "# sd_max_traffic_mul = get_max_traffic_mat_mul(graph, traffic_mat, solver=cp.SCS)\n",
    "sd_max_traffic_mul = 0.529\n",
    "\n",
    "print(f\"{sd_max_traffic_mul=},\")\n",
    "\n",
    "\n",
    "model = SDModel(graph, traffic_mat * sd_max_traffic_mul * 0.9)\n",
    "# model = SDModel(graph, traffic_mat * sd_max_traffic_mul * 1.1)  # you should see that constraints error does not converge"
   ]
  },
  {
   "cell_type": "markdown",
   "id": "076dfe5f",
   "metadata": {
    "tags": []
   },
   "source": [
    "## cvxpy edge-based"
   ]
  },
  {
   "cell_type": "raw",
   "id": "292f9c76",
   "metadata": {
    "scrolled": true
   },
   "source": [
    "# %%time\n",
    "# SCS(solver=\"SCS\", verbose=True, eps_abs=eps_abs) returns nonsencial solution\n",
    "# more options: https://www.cvxgrp.org/scs/api/settings.html#settings\n",
    "\n",
    "# more options, than in scipy docs: https://ergo-code.github.io/HiGHS/dev/options/definitions/#option-definitions\n",
    "flows_ie, dual_costs_cvx, _, _ = model.solve_cvxpy(solver=cp.SCIPY, verbose=False, \n",
    "                                                             scipy_options=dict(method=\"highs\", disp=True,\n",
    "                                                                                    time_limit=10 * 60),)\n",
    "\n",
    "# for small nets\n",
    "# flows_ie, dual_costs_cvx, _, _ = model.solve_cvxpy(solver=cp.ECOS, verbose=True)\n",
    "\n",
    "flows_cvx = flows_ie.sum(axis=1)\n",
    "R = np.linalg.norm(dual_costs_cvx)\n",
    "\n",
    "print(R)"
   ]
  },
  {
   "cell_type": "markdown",
   "id": "483c51eb",
   "metadata": {},
   "source": [
    "## Ustm"
   ]
  },
  {
   "cell_type": "code",
   "execution_count": null,
   "id": "220ded51",
   "metadata": {},
   "outputs": [],
   "source": [
    "%%time\n",
    "\n",
    "times_e_ustm, flows_e_ustm, dgap_log, cons_log, A_log, optimal = ustm(model, eps_abs, eps_cons_abs,\n",
    "                                                                         max_iter=1000, stop_by_crit=True)\n",
    "print(len(dgap_log), \"iters\")\n"
   ]
  },
  {
   "cell_type": "code",
   "execution_count": null,
   "id": "241e84a1",
   "metadata": {},
   "outputs": [],
   "source": [
    "A_arr = np.array(A_log) \n",
    "plt.figure(figsize=(10,4))\n",
    "plt.subplot(121)\n",
    "dgap_abs = np.abs(dgap_log)\n",
    "plt.plot(dgap_abs, c=\"C4\", label=\"USTM\")\n",
    "plt.plot(np.ones(dgap_abs.size) * eps_abs, label=\"eps_abs\")\n",
    "plt.yscale(\"log\")\n",
    "plt.ylim(None, dgap_abs.max() * 2)\n",
    "plt.title(\"abs(dgap)\")\n",
    "plt.legend()\n",
    "\n",
    "plt.subplot(122)\n",
    "plt.plot(np.ones(len(cons_log)) * eps_cons_abs, label=\"eps_cons_abs\")\n",
    "plt.plot(cons_log, c=\"C4\", label=\"USTM\")\n",
    "# plt.plot(4 * R / A_arr + (2 * eps_abs / A_arr)) # actually, it is bound for 2-norm, while cons_log is 1-norm\n",
    "# plt.ylim(np.min(cons_log) / 1.5, np.max(cons_log) * 2)\n",
    "plt.title(\"constraint violation\")\n",
    "plt.yscale(\"log\")\n",
    "plt.legend()\n",
    "\n",
    "print(\"average dgap:\", np.mean(dgap_log))"
   ]
  },
  {
   "cell_type": "raw",
   "id": "57b1d1f5",
   "metadata": {},
   "source": [
    "\n",
    "    _ = plt.figure(figsize=(4, 2)), plt.plot(dual_costs_cvx), plt.plot(times_e_ustm)\n",
    "# print(model.primal(flows_cvx), model.primal(flows_e_ustm))\n",
    "print(model.capacity_violation(flows_cvx), model.capacity_violation(flows_e_ustm))"
   ]
  },
  {
   "cell_type": "code",
   "execution_count": null,
   "id": "c41459a3",
   "metadata": {},
   "outputs": [],
   "source": [
    "bws = model.graph.ep.capacities.a\n",
    "order = bws.argsort()\n",
    "\n",
    "plt.plot(bws[order], label=\"capacity\", c='C2')\n",
    "# plt.plot(flows_cvx[order], label=\"cvxpy\", c=\"C1\")\n",
    "plt.plot(flows_e_ustm[order], label=\"ustm\", c=\"C4\")\n",
    "\n",
    "plt.legend()"
   ]
  },
  {
   "cell_type": "markdown",
   "id": "f8dc7012",
   "metadata": {},
   "source": [
    "# Subgd"
   ]
  },
  {
   "cell_type": "code",
   "execution_count": null,
   "id": "3e0422d2",
   "metadata": {
    "scrolled": true
   },
   "outputs": [],
   "source": [
    "%%time\n",
    "\n",
    "R = 10\n",
    "times_e_subgd, flows_e_subgd, dgap_log, cons_log, optimal = subgd(model, R=10 * R, eps_abs=eps_abs, \n",
    "                                                                   eps_cons_abs=eps_cons_abs, max_iter=1000)\n",
    "R = np.linalg.norm(dual_costs)\n",
    "print(len(dgap_log), \"iters\")"
   ]
  },
  {
   "cell_type": "code",
   "execution_count": null,
   "id": "5c620ed9",
   "metadata": {},
   "outputs": [],
   "source": [
    "plt.figure(figsize=(10,4))\n",
    "plt.subplot(121)\n",
    "dgap_abs = np.abs(dgap_log)\n",
    "plt.plot(np.ones(dgap_abs.size) * eps_abs, label=\"eps_abs\")\n",
    "plt.plot(dgap_abs, c=\"C3\", label=\"subgd\")\n",
    "plt.legend()\n",
    "plt.yscale(\"log\")\n",
    "\n",
    "plt.title(\"abs(dgap)\")\n",
    "plt.subplot(122)\n",
    "plt.plot(np.ones(len(cons_log)) * eps_cons_abs, label=\"eps_cons_abs\")\n",
    "plt.plot(cons_log, c=\"C3\", label=\"subgd\")\n",
    "plt.legend()\n",
    "plt.title(\"constraint violation l1 norm\")\n",
    "plt.yscale(\"log\")\n",
    "\n",
    "print(\"average dgap:\", np.mean(dgap_log))"
   ]
  },
  {
   "cell_type": "raw",
   "id": "27785f29",
   "metadata": {},
   "source": [
    "_ = plt.figure(figsize=(4, 2))\n",
    "plt.plot(dual_costs_cvx, c=\"C1\", label=\"dual var cvx\")\n",
    "plt.plot(dual_costs, c=\"C3\", label=\"dual var subgd\")\n",
    "plt.legend()"
   ]
  },
  {
   "cell_type": "code",
   "execution_count": null,
   "id": "1c3baef3",
   "metadata": {},
   "outputs": [],
   "source": [
    "bws = model.graph.ep.capacities.a\n",
    "order = bws.argsort()\n",
    "\n",
    "plt.plot(bws[order], label=\"capacity\", c='C2')\n",
    "# plt.plot(flows_cvx[order], label=\"cvxpy\", c=\"C1\")\n",
    "plt.plot(flows_e_subgd[order], label=\"subgd\", c=\"C4\")\n",
    "\n",
    "plt.legend()"
   ]
  },
  {
   "cell_type": "markdown",
   "id": "e1bea50f",
   "metadata": {},
   "source": [
    "# Compare SubGD and USTM"
   ]
  },
  {
   "cell_type": "code",
   "execution_count": null,
   "id": "69c78e91",
   "metadata": {},
   "outputs": [],
   "source": [
    "%%time\n",
    "\n",
    "# traffic_mat = 0.9 * traffic_mat_max\n",
    "\n",
    "model = SDModel(graph, traffic_mat) \n",
    "_, dual_costs_cvx, _, _ = model.solve_cvxpy()\n",
    "R = np.linalg.norm(dual_costs_cvx)\n",
    "subgd_times, subgd_iters, ustm_times, ustm_iters  = [], [], [], []\n",
    "epss = np.logspace(-1.5, -1, 10)\n",
    "res = {}\n",
    "res[f\"USTM\"] = {\"epss\" : list(epss), \"times\": ustm_times, \"iters\": ustm_iters}\n",
    "res[f\"SubGD\"] = {\"epss\" : list(epss), \"times\": subgd_times, \"iters\": subgd_iters}\n",
    "\n",
    "for eps in epss:\n",
    "    eps_abs_ = eps * mean_cost * mean_bw * graph.number_of_edges()\n",
    "    eps_cons_abs_ = eps * mean_bw \n",
    "    \n",
    "    t0 = time.time()\n",
    "    w_arr, flows_res, dgap_log, cons_log, optimal = subgd_mincost_mcf(model, 10 * R, eps_abs_, eps_cons_abs_, max_time=2 * 60)\n",
    "    print(f\"subg: eps={eps}, niters={len(dgap_log)}\")\n",
    "    subgd_times.append(time.time()-t0)\n",
    "    subgd_iters.append(len(dgap_log))\n",
    "    \n",
    "    t0 = time.time()\n",
    "    w_arr, flows_weighted, dgap_log, cons_log, A_log, optimal = ustm_mincost_mcf(model, eps_abs_, eps_cons_abs_, max_time=2 * 60)\n",
    "    ustm_times.append(time.time()-t0)\n",
    "    print(f\"ustm: eps={eps}, niters={len(dgap_log)}\\n\")\n",
    "    ustm_iters.append(len(dgap_log))\n",
    "    \n",
    "    \n",
    "# with open(f\"results/ustm-vs-subgd.json\", \"w\") as fp:\n",
    "#     json.dump(res, fp)\n"
   ]
  },
  {
   "cell_type": "code",
   "execution_count": null,
   "id": "ab895ceb",
   "metadata": {},
   "outputs": [],
   "source": [
    "colors = {\n",
    "    \"USTM, eps=0.001\": \"C0\",\n",
    "    \"USTM, eps=0.01\": \"C2\",\n",
    "    \"USTM\": \"C0\",\n",
    "    \"ECOS, eps=0.001\": \"C3\",\n",
    "    \"ECOS, eps=0.01\": \"C5\",\n",
    "    \"HIGHS, accurate\": \"C4\",\n",
    "    \"SubGD\": \"C1\",\n",
    " }"
   ]
  },
  {
   "cell_type": "code",
   "execution_count": null,
   "id": "315da478",
   "metadata": {
    "scrolled": true
   },
   "outputs": [],
   "source": [
    "with open(f\"results/ustm-vs-subgd.json\", \"r\") as fp:\n",
    "    res = json.load(fp)\n",
    "    \n",
    "i = 0\n",
    "for k, v in res.items():\n",
    "    plt.plot(v[\"epss\"], v[\"times\"], label=k, c=colors[k])\n",
    "    plt.scatter(v[\"epss\"], v[\"times\"], c=colors[k])\n",
    "    i += 1\n",
    "plt.xscale(\"log\")\n",
    "plt.yscale(\"log\")\n",
    "plt.legend()\n",
    "plt.ylabel(\"time, s\")\n",
    "plt.xlabel(\"eps\")\n",
    "plt.gca().invert_xaxis()\n",
    "\n",
    "plt.tight_layout()\n",
    "plt.savefig(\"results/ustm_vs_subgd.pdf\")\n"
   ]
  },
  {
   "cell_type": "markdown",
   "id": "a2a05ddc",
   "metadata": {},
   "source": [
    "# USTM vs CVXpy"
   ]
  },
  {
   "cell_type": "code",
   "execution_count": null,
   "id": "c6a8f153",
   "metadata": {
    "scrolled": false
   },
   "outputs": [],
   "source": [
    "time_limit = 10 * 60\n",
    "# comment = \"USTM rvalue mul 0.5->0.1, changed crit to avg bandwdths and costs, l1->l2\"\n",
    "comment = \"10 points, USTM rvalue mul 0.5->0.1, changed crit to avg bandwdths and costs, COST SCALED BY MUL, l1->l2\"\n",
    "\n",
    "res = {\"meta\": {\"network\": network, \"time_limit\": time_limit, \"description\": comment}}\n",
    "\n",
    "for eps in [1e-3, 1e-2]:\n",
    "    mul_ls = np.linspace(0.01, 0.99, 10)\n",
    "\n",
    "    print(\"USTM\")\n",
    "    cur_res = res[f\"USTM, eps={eps}\"] = {\"eps\": eps}\n",
    "    records = cur_res[\"records\"] = []\n",
    "    \n",
    "    muls, times, costs = [], [], []\n",
    "    for mul in tqdm(mul_ls):\n",
    "        eps_abs_ = eps * mean_cost * mean_bw * graph.number_of_edges() * mul\n",
    "        eps_cons_abs_ = eps * mean_bw \n",
    "        model = CapacityDualModel(graph, traffic_mat * mul) \n",
    "        t0 = time.time()\n",
    "        w_arr, flows_weighted, dgap_log, cons_log, A_log, optimal = ustm_mincost_mcf(\n",
    "            model, eps_abs_, eps_cons_abs_, max_time=time_limit, max_iter=None)\n",
    "        if optimal:\n",
    "            records.append({\"mul\": mul, \"time\": time.time() - t0, \"cost\": model.primal(flows_weighted)})\n",
    "            muls.append(mul)\n",
    "            times.append(time.time() - t0)\n",
    "            costs.append(model.primal(flows_weighted))\n",
    "\n",
    "    plt.plot(muls, times, label=f\"USTM, eps={eps: .3g}\")\n",
    "    print(f\"cost err: {eps_abs_: .4g}, costs: {[round(float(x), 4) for x in costs]}, cons err: {eps_cons_abs_}\")\n",
    "\n",
    "\n",
    "    if network == \"abilene\":\n",
    "        print(\"ECOS\")\n",
    "        cur_res = res[f\"ECOS, eps={eps}\"] = {\"eps\": eps}\n",
    "        records = cur_res[\"records\"] = []\n",
    "        \n",
    "        muls, times = [], []\n",
    "        for mul in mul_ls:\n",
    "            t0 = time.time()\n",
    "            flows_cvx, dual_costs_cvx, _, _ = solve_min_cost_concurrent_flow(graph, traffic_mat * mul, solver=\"ECOS\",\n",
    "                                                                         abstol=eps_abs)\n",
    "\n",
    "            if flows_cvx is not None:\n",
    "                muls.append(mul), times.append(time.time() - t0)\n",
    "                cost = float(flows_cvx.sum(axis=1) @ model.graph.ep.costs.a)\n",
    "                records.append({\"mul\": mul, \"time\": time.time() - t0, \"cost\": cost})\n",
    "        plt.plot(muls, times, label=f\"ECOS, eps={eps: .3g}\")\n",
    "\n",
    "print(\"SCIPY\")\n",
    "cur_res = res[f\"HIGHS, accurate\"] = {}\n",
    "records = cur_res[\"records\"] = []\n",
    "\n",
    "muls, times = [], []\n",
    "for mul in tqdm(mul_ls):\n",
    "    t0 = time.time()\n",
    "    try:\n",
    "        flows_cvx, dual_costs_cvx, _, _ = solve_min_cost_concurrent_flow(graph, traffic_mat * mul, solver=cp.SCIPY, \n",
    "                                                         scipy_options=dict(method=\"highs\",\n",
    "                                                                            time_limit=time_limit),)\n",
    "        if flows_cvx is not None:\n",
    "            muls.append(mul), times.append(time.time() - t0)\n",
    "            cost = float(flows_cvx.sum(axis=1) @ model.graph.ep.costs.a)\n",
    "            records.append({\"mul\": mul, \"time\": time.time() - t0, \"cost\": cost})\n",
    "    except:\n",
    "        pass\n",
    "\n",
    "plt.plot(muls, times, label=f\"scipy(highs), accurate\")\n",
    "\n",
    "# muls, times = [], []\n",
    "# for mul in mul_ls:\n",
    "#     t0 = time.time()\n",
    "#     flows_cvx, dual_costs_cvx, _, _ = solve_min_cost_concurrent_flow(graph, traffic_mat * mul, solver=\"SCS\", verbose=True, \n",
    "#                                                                   time_limit_secs=time_limit)\n",
    "\n",
    "#     if flows_cvx is not None:\n",
    "#         muls.append(mul), times.append(time.time() - t0)\n",
    "\n",
    "# plt.plot(muls, times, label=f\"SCS, accurate\")\n",
    "\n",
    "plt.legend()\n",
    "plt.yscale(\"log\")\n",
    "plt.plot()\n",
    "\n",
    "# with open(f\"results/{network}-ustm-vs-cvxpy.json\", \"w\") as fp:\n",
    "#     json.dump(res, fp)\n",
    "    \n"
   ]
  },
  {
   "cell_type": "markdown",
   "id": "6961509f",
   "metadata": {},
   "source": [
    "# Draw plots (USTM vs CVXpy)"
   ]
  },
  {
   "cell_type": "code",
   "execution_count": null,
   "id": "47fa4ba8",
   "metadata": {
    "scrolled": true
   },
   "outputs": [],
   "source": [
    "import pandas as pd\n",
    "\n",
    "# uncomment to draw from saved results\n",
    "# network = \"Anaheim\"\n",
    "# network = \"abilene\"\n",
    "\n",
    "with open(f\"results/{network}-ustm-vs-cvxpy.json\", \"r\") as fp:\n",
    "    res = json.load(fp)\n",
    "    \n",
    "for k, v in res.items():\n",
    "    if k != \"meta\":\n",
    "        df = pd.DataFrame.from_records(v[\"records\"])\n",
    "        plt.plot(df[\"mul\"], df.cost, label=k)\n",
    "plt.ylabel(\"cost\")\n",
    "plt.xlabel(\"beta\")\n",
    "plt.title(\"pareto front\")\n",
    "plt.legend()\n"
   ]
  },
  {
   "cell_type": "code",
   "execution_count": null,
   "id": "13831647",
   "metadata": {},
   "outputs": [],
   "source": [
    "for k, v in res.items():\n",
    "    if k != \"meta\":\n",
    "        df = pd.DataFrame.from_records(v[\"records\"])\n",
    "        plt.plot(df[\"mul\"], df.time, label=k, c=colors[k])\n",
    "        plt.scatter(df[\"mul\"], df.time, c=colors[k])\n",
    "    \n",
    "plt.legend()\n",
    "plt.yscale(\"log\")\n",
    "plt.xlabel(\"beta\")\n",
    "plt.ylabel(\"time, s\")\n",
    "\n",
    "plt.tight_layout()\n",
    "# plt.savefig(f\"results/{network}_ustm_vs_cvxpy.pdf\")"
   ]
  },
  {
   "cell_type": "markdown",
   "id": "f768ecfa",
   "metadata": {},
   "source": [
    "### Benchmark graph-tool vs networkx"
   ]
  },
  {
   "cell_type": "code",
   "execution_count": null,
   "id": "6df24844",
   "metadata": {},
   "outputs": [],
   "source": [
    "nx_graph = graph\n",
    "gt_graph = model.graph\n",
    "\n",
    "from src.solvers.graph_utils.shortest_paths_gt import flows_on_shortest_gt\n",
    "from src.solvers.graph_utils.shortest_paths_nx import flows_on_shortest_nx"
   ]
  },
  {
   "cell_type": "code",
   "execution_count": null,
   "id": "3b00a3f8",
   "metadata": {
    "scrolled": false
   },
   "outputs": [],
   "source": [
    "def benchmark_gt():\n",
    "    weights = gt_graph.new_edge_property(\"double\")\n",
    "    weights.a = np.random.random(graph.number_of_edges())\n",
    "    _ = flows_on_shortest_gt(gt_graph, traffic_mat, weights)\n",
    "    \n",
    "%timeit benchmark_gt()"
   ]
  },
  {
   "cell_type": "code",
   "execution_count": null,
   "id": "6d842c7f",
   "metadata": {
    "scrolled": true
   },
   "outputs": [],
   "source": [
    "%timeit _ = flows_on_shortest_nx(nx_graph, traffic_mat, np.random.random(graph.number_of_edges()))"
   ]
  },
  {
   "cell_type": "code",
   "execution_count": null,
   "id": "1cf68f99",
   "metadata": {},
   "outputs": [],
   "source": [
    "    "
   ]
  },
  {
   "cell_type": "code",
   "execution_count": null,
   "id": "997d15f4",
   "metadata": {},
   "outputs": [],
   "source": []
  },
  {
   "cell_type": "code",
   "execution_count": null,
   "id": "2222b458",
   "metadata": {},
   "outputs": [],
   "source": []
  }
 ],
 "metadata": {
  "kernelspec": {
   "display_name": "gt-new",
   "language": "python",
   "name": "gt-new"
  },
  "language_info": {
   "codemirror_mode": {
    "name": "ipython",
    "version": 3
   },
   "file_extension": ".py",
   "mimetype": "text/x-python",
   "name": "python",
   "nbconvert_exporter": "python",
   "pygments_lexer": "ipython3",
   "version": "3.11.4"
  }
 },
 "nbformat": 4,
 "nbformat_minor": 5
}
